{
 "cells": [
  {
   "cell_type": "markdown",
   "metadata": {},
   "source": [
    "# Modeling Goal & Experiment Focus\n",
    "\n",
    "How [these decentralized energy resources](../notebooks/Electraseed_Athena.ipynb#Decentralized-Energy-System-Components) are used to avoid CO2, and integrate more renewable energy sources by providing flexibility is determined by their technical capacities as much as local energy mix and environment, as well as how or whether the users of these energy resources are aware and assisted through information, automation, and mindful incentivization. \n",
    "\n",
    "The technical scnearios described here are as old as the idea of [Smart Grids originating in 2008](https://en.wikipedia.org/wiki/Smart_grid). Multimillion research budgets and human lifetime of thousands of researchers have been poured into finding out that people do not care about things they don't understand and don't feel connected to. \n",
    "\n",
    "Traditionally modeling of decentralized energy system has the goal to quantitatively analyze technical feasibility and economic sensibility. We regard these as insights that this model will yield, whilst we are focusing on modeling and simulating as well as verifying the incentive schemes that play on psychological, socio-economic, and socio-technical dimensions. It has been shown over and over in the past that energy consumers [\"don't care\"](https://www.greentechmedia.com/articles/read/What-Makes-Consumers-Care-About-the-Smart-Grid) due to a [\"lack of understanding\"](https://phys.org/news/2011-08-ibm-survey-reveals-energy-lack.html)\n",
    "\n",
    "As part of the Experiment setup we will also create opportunities of digital dialogues with citizen participants, such that we can inform the modeling & simulations through qualitative data: this reaches from questionnaires to actual awareness campaigns, e.g. \"[Go Fossil Free Campaigns](https://gofossilfree.org/about/)\" in the cities and countries in which Electraseed Fund curators & friends are active: Bali, Bangladesh, Germany, Nigeria, Panama, UK, US, Ukraine, Venezuela as a start.\n",
    "\n",
    "Our goal is to make these models & simulations into explorable explanations that enpower people in owning their central role, playing their part in climate action and co-creating more prosperous futures by [joyfully subverting](https://en.wikipedia.org/wiki/Climate_change_art) the current trends:"
   ]
  },
  {
   "cell_type": "code",
   "execution_count": 1,
   "metadata": {},
   "outputs": [
    {
     "data": {
      "text/html": [
       "<script>\n",
       "code_show=true; \n",
       "function code_toggle() {\n",
       " if (code_show){\n",
       " $('div.input').hide();\n",
       " } else {\n",
       " $('div.input').show();\n",
       " }\n",
       " code_show = !code_show\n",
       "} \n",
       "$( document ).ready(code_toggle);\n",
       "</script>\n",
       "<iframe width=\"768\" height=\"512\" src=\"https://upload.wikimedia.org/wikipedia/commons/e/e7/Temperature_anomalies_arranged_by_country_1900_-_2016.ogv\" frameborder=\"0\" allowfullscreen></iframe>\n",
       "<br />\n",
       "\n",
       "Show/Hide HTML code, click <a href=\"javascript:code_toggle()\">here</a>."
      ],
      "text/plain": [
       "<IPython.core.display.HTML object>"
      ]
     },
     "execution_count": 1,
     "metadata": {},
     "output_type": "execute_result"
    }
   ],
   "source": [
    "from IPython.display import HTML\n",
    "\n",
    "HTML('''<script>\n",
    "code_show=true; \n",
    "function code_toggle() {\n",
    " if (code_show){\n",
    " $('div.input').hide();\n",
    " } else {\n",
    " $('div.input').show();\n",
    " }\n",
    " code_show = !code_show\n",
    "} \n",
    "$( document ).ready(code_toggle);\n",
    "</script>\n",
    "<iframe width=\"768\" height=\"512\" src=\"https://upload.wikimedia.org/wikipedia/commons/e/e7/Temperature_anomalies_arranged_by_country_1900_-_2016.ogv\" frameborder=\"0\" allowfullscreen></iframe>\n",
    "<br />\n",
    "\n",
    "Show/Hide HTML code, click <a href=\"javascript:code_toggle()\">here</a>.''')\n"
   ]
  },
  {
   "cell_type": "markdown",
   "metadata": {},
   "source": [
    "# Experiment \"Munich Must Act\"\n",
    "\n",
    "This is a scenario we discovered in November 2019 when [playtesting Le Grand Jeu](https://medium.com/freeelio-studios/le-grand-jeu-met-token-engineering-and-it-was-love-at-first-sight-e7a85c6d9444), as a tool for game-based simulation with stakeholders and co-creation in complex adaptive systems.\n",
    "\n",
    "> In 2017 there was a Munich [Referendum ”Clean Air”](https://www.ris-muenchen.de/RII/RII/DOK/SITZUNGSVORLAGE/5534267.pdf) for phasing out of a coal-powered plant called [HKW Nord 2](https://de.wikipedia.org/wiki/Heizkraftwerk_Nord_(M%C3%BCnchen)). However, the Federal Grid Agency (Bundesnetzagentur) just recently forbid the shutting down of the coal-powered plant because it is [“system relevant.”](https://www.sueddeutsche.de/muenchen/muenchen-kohleausstieg-heizkraftwerk-nord-verbot-1.4663664) Germany is the [biggest polluter in Europe](https://www.socialeurope.eu/europes-coal-problem) due to its [holding on to coal](https://www.euractiv.com/section/climate-environment/opinion/new-coal-law-will-be-canary-in-a-coal-mine-moment-for-german-presidency/) — Germany’s coal problem, is a social problem, at this stage not even only at a local, national, or European level — but [a global one](https://news.trust.org/item/20191201233049-6ja2c/).\n",
    "\n"
   ]
  },
  {
   "cell_type": "markdown",
   "metadata": {},
   "source": [
    "## Assumptions\n",
    "\n",
    "1. Coal powered plant's production and schedule (todo: add data sheet from hackathon notes)\n",
    "2. Flexibility potential of [energy assets](../notebooks/Electraseed_Athena.ipynb#Decentralized-Energy-System-Components) <br>\n",
    "3. Participants' motivation <br>\n",
    "  a. to fund energy assets ([funder groups](../notebooks/Electraseed_Athena.ipynb#Funders)) <br>\n",
    "  b. to respond to information/incentives ([fundee groups](../notebooks/Electraseed_Athena.ipynb#Fundees)) <br>\n",
    "model data can be found under resources/data. \n",
    " \n",
    "\n",
    "## Questions \n",
    "\n",
    "- Could Munich residents replace one large power plant with lots of small power plants?\n",
    "  - e.g. homes with efficiency and EVs doing a good job charging at the right times? \n",
    "  - homes with new solar rooftops?\n",
    "  - homes with new electric heat pumps?\n",
    "- How much funding would be needed and what are the positive impacts to incentivize funding?\n",
    "  - active citizenship and co-funding, balancing the grid?\n",
    "  - thresholds for city and local grid operator to chip in?\n",
    "  - from charities?\n",
    "  - from impact investors?\n",
    "- What could go wrong and how much reserve/overcollateralization of flexibility is needed?\n",
    "  - flexibility default due to technical malfunction or ineffective incentives?\n",
    "  - premature saturation, i.e. not sufficient funders and/or fundees to provide flexibility?\n",
    "  - blackout risk?\n"
   ]
  },
  {
   "cell_type": "code",
   "execution_count": 1,
   "metadata": {},
   "outputs": [
    {
     "ename": "NameError",
     "evalue": "name 's_update_funds' is not defined",
     "output_type": "error",
     "traceback": [
      "\u001b[0;31m---------------------------------------------------------------------------\u001b[0m",
      "\u001b[0;31mNameError\u001b[0m                                 Traceback (most recent call last)",
      "\u001b[0;32m<ipython-input-1-d9c5d68ea94f>\u001b[0m in \u001b[0;36m<module>\u001b[0;34m\u001b[0m\n\u001b[1;32m      4\u001b[0m \u001b[0;34m\u001b[0m\u001b[0m\n\u001b[1;32m      5\u001b[0m \u001b[0;31m# 1-Experiments\u001b[0m\u001b[0;34m\u001b[0m\u001b[0;34m\u001b[0m\u001b[0;34m\u001b[0m\u001b[0m\n\u001b[0;32m----> 6\u001b[0;31m \u001b[0;32mfrom\u001b[0m \u001b[0mmodel\u001b[0m \u001b[0;32mimport\u001b[0m \u001b[0mrun\u001b[0m\u001b[0;34m\u001b[0m\u001b[0;34m\u001b[0m\u001b[0m\n\u001b[0m\u001b[1;32m      7\u001b[0m \u001b[0mpd\u001b[0m\u001b[0;34m.\u001b[0m\u001b[0moptions\u001b[0m\u001b[0;34m.\u001b[0m\u001b[0mdisplay\u001b[0m\u001b[0;34m.\u001b[0m\u001b[0mfloat_format\u001b[0m \u001b[0;34m=\u001b[0m \u001b[0;34m'{:.2f}'\u001b[0m\u001b[0;34m.\u001b[0m\u001b[0mformat\u001b[0m\u001b[0;34m\u001b[0m\u001b[0;34m\u001b[0m\u001b[0m\n\u001b[1;32m      8\u001b[0m \u001b[0;34m\u001b[0m\u001b[0m\n",
      "\u001b[0;32m~/projects/Odyssey2020/model/run.py\u001b[0m in \u001b[0;36m<module>\u001b[0;34m\u001b[0m\n\u001b[1;32m      5\u001b[0m \u001b[0;32mfrom\u001b[0m \u001b[0mcadCAD\u001b[0m \u001b[0;32mimport\u001b[0m \u001b[0mconfigs\u001b[0m\u001b[0;34m\u001b[0m\u001b[0;34m\u001b[0m\u001b[0m\n\u001b[1;32m      6\u001b[0m \u001b[0;32mimport\u001b[0m \u001b[0mpandas\u001b[0m \u001b[0;32mas\u001b[0m \u001b[0mpd\u001b[0m\u001b[0;34m\u001b[0m\u001b[0;34m\u001b[0m\u001b[0m\n\u001b[0;32m----> 7\u001b[0;31m \u001b[0;32mfrom\u001b[0m \u001b[0mmodel\u001b[0m \u001b[0;32mimport\u001b[0m \u001b[0mconfig\u001b[0m\u001b[0;34m\u001b[0m\u001b[0;34m\u001b[0m\u001b[0m\n\u001b[0m\u001b[1;32m      8\u001b[0m \u001b[0;34m\u001b[0m\u001b[0m\n\u001b[1;32m      9\u001b[0m \u001b[0;32mdef\u001b[0m \u001b[0mrun\u001b[0m\u001b[0;34m(\u001b[0m\u001b[0;34m)\u001b[0m\u001b[0;34m:\u001b[0m\u001b[0;34m\u001b[0m\u001b[0;34m\u001b[0m\u001b[0m\n",
      "\u001b[0;32m~/projects/Odyssey2020/model/config.py\u001b[0m in \u001b[0;36m<module>\u001b[0;34m\u001b[0m\n\u001b[1;32m      5\u001b[0m \u001b[0;34m\u001b[0m\u001b[0m\n\u001b[1;32m      6\u001b[0m \u001b[0;32mfrom\u001b[0m \u001b[0;34m.\u001b[0m\u001b[0mstate_variables\u001b[0m \u001b[0;32mimport\u001b[0m \u001b[0mgenesis_states\u001b[0m\u001b[0;34m\u001b[0m\u001b[0;34m\u001b[0m\u001b[0m\n\u001b[0;32m----> 7\u001b[0;31m \u001b[0;32mfrom\u001b[0m \u001b[0;34m.\u001b[0m\u001b[0mpartial_state_update_block\u001b[0m \u001b[0;32mimport\u001b[0m \u001b[0mpartial_state_update_block\u001b[0m\u001b[0;34m\u001b[0m\u001b[0;34m\u001b[0m\u001b[0m\n\u001b[0m\u001b[1;32m      8\u001b[0m \u001b[0;32mfrom\u001b[0m \u001b[0;34m.\u001b[0m\u001b[0msys_params\u001b[0m \u001b[0;32mimport\u001b[0m \u001b[0msys_params\u001b[0m\u001b[0;34m\u001b[0m\u001b[0;34m\u001b[0m\u001b[0m\n\u001b[1;32m      9\u001b[0m \u001b[0;32mfrom\u001b[0m \u001b[0;34m.\u001b[0m\u001b[0mparts\u001b[0m\u001b[0;34m.\u001b[0m\u001b[0mutils\u001b[0m \u001b[0;32mimport\u001b[0m \u001b[0;34m*\u001b[0m\u001b[0;34m\u001b[0m\u001b[0;34m\u001b[0m\u001b[0m\n",
      "\u001b[0;32m~/projects/Odyssey2020/model/partial_state_update_block.py\u001b[0m in \u001b[0;36m<module>\u001b[0;34m\u001b[0m\n\u001b[1;32m     15\u001b[0m         \u001b[0;31m# Mechanisms in system.py\u001b[0m\u001b[0;34m\u001b[0m\u001b[0;34m\u001b[0m\u001b[0;34m\u001b[0m\u001b[0m\n\u001b[1;32m     16\u001b[0m         'variables': {\n\u001b[0;32m---> 17\u001b[0;31m              \u001b[0;34m'funding_pool'\u001b[0m\u001b[0;34m:\u001b[0m \u001b[0ms_update_funds\u001b[0m\u001b[0;34m,\u001b[0m\u001b[0;34m\u001b[0m\u001b[0;34m\u001b[0m\u001b[0m\n\u001b[0m\u001b[1;32m     18\u001b[0m             \u001b[0;31m# 'reserve_pool' :  s_update_funds,\u001b[0m\u001b[0;34m\u001b[0m\u001b[0;34m\u001b[0m\u001b[0;34m\u001b[0m\u001b[0m\n\u001b[1;32m     19\u001b[0m              \u001b[0;34m'flexibility_pool'\u001b[0m\u001b[0;34m:\u001b[0m \u001b[0ms_update_usage\u001b[0m\u001b[0;34m,\u001b[0m\u001b[0;34m\u001b[0m\u001b[0;34m\u001b[0m\u001b[0m\n",
      "\u001b[0;31mNameError\u001b[0m: name 's_update_funds' is not defined"
     ]
    }
   ],
   "source": [
    "# 0-Dependences - standard libraries and analysis & plotting modules\n",
    "import pandas as pd\n",
    "import numpy as np\n",
    "\n",
    "# 1-Experiments\n",
    "from model import run\n",
    "pd.options.display.float_format = '{:.2f}'.format\n",
    "\n",
    "%matplotlib inline\n",
    "\n",
    "# run the simulation from model/run.py\n",
    "df = run.run()"
   ]
  },
  {
   "cell_type": "code",
   "execution_count": null,
   "metadata": {},
   "outputs": [],
   "source": []
  }
 ],
 "metadata": {
  "kernelspec": {
   "display_name": "Python 3",
   "language": "python",
   "name": "python3"
  },
  "language_info": {
   "codemirror_mode": {
    "name": "ipython",
    "version": 3
   },
   "file_extension": ".py",
   "mimetype": "text/x-python",
   "name": "python",
   "nbconvert_exporter": "python",
   "pygments_lexer": "ipython3",
   "version": "3.9.0+"
  }
 },
 "nbformat": 4,
 "nbformat_minor": 4
}
