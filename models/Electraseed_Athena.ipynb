{
 "cells": [
  {
   "cell_type": "markdown",
   "metadata": {},
   "source": [
    "# Overview\n",
    "\n",
    "This notebook describes the \"Athena\" model: Electraseed Community Fund.\n",
    "This model is co-designed with [YoYu App](https://www.yoyu.app/) and [e-swissolar AG](http://www.e-swissolar.ch/index.php/de/) during the [Odyssey 2020 MOMENTUM](https://www.odyssey.org/momentum/) Fossil Free Future Challenge.  \n",
    "\n",
    "* [Electraseed Community Fund](#Electraseed-Community-Fund)\n",
    "* [Ecosystem Members](#Ecosystem-Members)\n",
    "* [Modeling Goal & Experiment Focus](../notebooks/Experiments.ipynb) (separate notebook)\n",
    "* [Visual Systems Mapping](#Visual-System-Mapping)\n",
    "  * [Entity Relationship Diagrams](#Entity-Relationship-Diagrams)\n",
    "  * [Causal Loop Diagrams](#Causal-Loop-Diagrams)\n",
    "  * [Valueflows Diagrams](#Valueflows-Diagrams)\n",
    "* [Specifications](#Specifications)\n",
    "  * [Mathematical Specifications](#Mathematical-Specifications)\n",
    "  * [Differential Specification](#Differential-Specification)\n",
    "* [Background Info](#BackgroundInfo)"
   ]
  },
  {
   "cell_type": "markdown",
   "metadata": {},
   "source": [
    "# Electraseed Community Fund\n",
    "\n",
    "The [purpose](#Modeling-Goal-and-Experiment-Focus) is to create a sustainable finance feature, which enables any community members to own and consciously use clean energy resources, such as electric vehicles, solar rooftops, heat pumps, batteries etc.\n",
    "\n",
    "In order to draw value aligned funders, the finance feature, is unlocked through gamified learning of a CO2-free lifestyle - and which balances equal opportunity with equal outcomes for participants. A lifestyle that sustains the future generations on this planet should be rewarded by all. The ultimate level becoming co-investor in the clean energy community infrastructure. [See demo](https://drive.google.com/file/d/1lLoWhqzY8ilkZzgl5xUdZ8c8ez2fC9Yv/view?usp=sharing).\n",
    "\n",
    "The gamification ensures that participants learn and prove over a period of time that they are aware to charge their major appliances when solar power is abundant and not when the local ennergy mix is largely fossil fuel powered. The [electricity mix varies](https://www.electricitymap.org/map) throughout the day. This is especially crucial when one gets to own an electric car:\n",
    "\n",
    "> \"A transition from conventional petrol and diesel vehicles to EVs plays a large role in mitigation pathways that limit warming to meet Paris Agreement targets. However, it depends on rapid decarbonisation of electricity generation to be effective. If countries do not replace coal and, to a lesser extent, gas, then electric vehicles will still remain far from being “zero emissions”.\" - from _[\"Fact Check: How EVs help to tackle climate change\"](https://www.carbonbrief.org/factcheck-how-electric-vehicles-help-to-tackle-climate-change)_\n",
    "\n",
    "With this perspective, the fund shall incentivize owning an electric vehicle only if the energy usage is actively managed and renewable energy supply is actively funded by the owner-user of the eCar. "
   ]
  },
  {
   "cell_type": "markdown",
   "metadata": {},
   "source": [
    "## Ecosystem Members\n",
    "\n",
    "The ecosystem is the entirety of organizations, groups of individuals, as well as decentralized energy resources with a sophisticated level of interdependence. [From wikiepdia](https://en.wikipedia.org/wiki/Ecosystem) _\"An ecosystem is a community of living organisms in conjunction with the nonliving components of their environment, interacting as a system.\"_\n",
    "\n",
    "We capture their valuable assets (tangible, intangible) that they add to the ecosystem. We capture their motivations to do so. This will give us direction for creating incentive mechanisms to increase efficiency of coordination. In addition, capturing inherent needs of participants in an ecosystem, opens up opportunities to create prosocial, positive sum games [without diminishing intrinsic motivation](https://www.verywellmind.com/differences-between-extrinsic-and-intrinsic-motivation-2795384).\n",
    "\n",
    "\n",
    "\n",
    "### Funders\n",
    "\n",
    "**Impact Investor**\n",
    "Both intrinsically and extrinsically motivated. Ready to provide funds at way below market returns, at minimum a return of capital [[source]](https://thegiin.org/impact-investing/need-to-know/). Ability to increase the positive social (solidarity, citizens become co-investors) and environmental impact (maximized CO2 reduction over assets lifetime through [gamification](https://yukaichou.com/gamification-examples/octalysis-complete-gamification-framework/)) over the lifetime of investment, can convince them to provide additional liquidity.\n",
    "\n",
    "**Charity**\n",
    "Mostly intrinsically motivated to provide funds, if the purpose is in 100% alignment . Increased impact over lifetime of clean energy assets as well risk reduction through incentivized active participation of citizens can convince them to subscribe continually.\n",
    "\n",
    "**City**\n",
    "Most cities have a soft pledge to reach 100% renewables and reduce CO2 emissions by [50% by 2030](https://use.metropolis.org/case-studies/integrated-action-program-for-climate-protection-in-munich). The opportunity to actively collaborate with citizens can create additional intrinsic motivations. The educational aspect of the solution, coupled with increased solidarity fulfills the [need of cities for active citizenship](https://www.opensocietyfoundations.org/voices/active-citizenship-can-change-your-country-better).\n",
    "\n",
    "**Power Grid Operator**\n",
    "Mostly intrinsically motivated as a regulated infrastructure provider. Electricity networks are seen as \"natural monopolies,\" and under [incentive regulation](https://www.bundesnetzagentur.de/EN/Areas/Energy/Companies/GeneralInformationOnEnergyRegulation/IncentiveRegulation/IncentiveRegulation_node.html) in most of EU. Even if they weren't, grid operators will chose path of least resistance to \"keep the lights on\". However, it would be very costly - and forbidden in liberated markets - to directly control decentralized energy resources. Yet in times of emergency, instability of the power grid due to fluctuating supply and deman, grid operators resort to [costly shut down of reneweables](https://leveltenenergy.com/blog/ppa-risk-management/renewable-energy-curtailment/). The operator needs to know that they will meet the powe grid's [flexibility need](#Flexibility-Need) at any time.\n",
    "\n",
    "\n",
    "### Fundees\n",
    "\n",
    "**Equipment Vendor**\n",
    "Mostly intrinsically motivated, since they are building the resources needed to successfully transition to a Fossil Free Future - except in the case of car manufacturers, where electric vehicles cut into new car sales of diesel powered cars, and also open up competition vastly, since electric motors are magnitude easier to build than diesel motors. Additional incentives are needed for tipping point.\n",
    "\n",
    "Solar equipment vendors also include flexibility providing resources in their portfolio, [e.g. heatpumps](https://www.sma.de/en/home/heat-with-solar-power.html), [batteries](https://www.tesla.com/solarroof) there are also vendors who solely focus on flexibility resources, combined heat and power, storage, etc. \n",
    "\n",
    "Equipment vendors provide the supply side of decentralized clean energy and flexibility, which is much determined by what is called [\"learning curve\"](https://about.bnef.com/blog/behind-scenes-take-lithium-ion-battery-prices/), i.e. cost of production. Cost of customer acquisition and cost of distributions could be additionally improved through incentive schemes made available through conditional funding options.\n",
    "\n",
    "\n",
    "**Citizen**\n",
    "Definitely intrinsically motivated, if [they are aware](https://ec.europa.eu/clima/citizens/support_en), but even then lack orientation and knowhow about living a CO2-freeer live when it comes to energy. Just consuming less, and taking the bike or public transportation is helpful. Yet in most cities fossil fueled cars stuck in traffic jams is reality. More awareness, solidarity, investment into electric vehicles (especially, replacing old cars - i.e. eV for low-budget households) can be gamified to create awareness joyfully and incentive structures to be able to afford clean energy assets for all citizens, will be the focus of this model.\n",
    "\n",
    "We will have various subpopulation of households, depending on living circumstances (e.g. multifamily homes are less likely to install solar roof, or energetic retrofit due to hard to get consensus), income (e.g. heavy subsidy or alternative revenue model needed for acquiring smart appliences, or eCar), awareness (too busy to care? learn about clean energy and usage optimizations); another interesting group can be businesses as citizens with bigger buildings/roofs, car fleets, and parking lots etc. \n",
    "\n",
    "\n",
    "### Decentralized Energy System Components\n",
    "\n",
    "These are the \"nonliving components\" referred to in the Ecosystem definition above. For our purposes, the most important ones are the solar rooftops and community solar installations, batteries and storage, heat pumps, and electric vehicles. These are the mostly likely to be purchased and operated/used by citizens. Depending on their usage patterns and responsiveness to incentive schemes or automation mechanisms they will create more or less burden on the grid, and their CO2 footprint will vary. \n",
    "\n",
    "The CO2 avoidance metric is also dependent on the local energy mix provided by the power grid (browse International Energy Agency [data here](https://www.iea.org/countries/germany)). We provide data for capacities and typical sizes and costs for the various flexibility types under [data folder](Odyssey2020/resources/data/TODO@Ailin).\n",
    "\n",
    "**Electric Vehicles**\n",
    "Electric vehicles pose challenges, if they are all charged at the same time, and/or charged when local power mix is fossil fuel based (see above). However, they also are the best [digitalized energy assets](https://www.wired.com/insights/2014/02/teslas-air-fix-best-example-yet-internet-things/) to date with considerable flexibility potential, e.g. \"59% of ev charging demand can be delayed for more than 8 hours\"[source](https://www.mdpi.com/2032-6653/10/1/14/htm).\n",
    "\n",
    "**Solar Rooftops / Community Solar**\n",
    "Solar rooftops mostly get installed on single family homes or commercial buildings. Increasingly solar rooftops on multifamily homes are being installed, yet only if all parties agree does it pay-off. Larger community solar (or wind) projects owned and used by the community nearby are also [gaining momentum](https://www.energy.gov/eere/solar/community-and-shared-solar) - however, coordination and financing, billing, accounting options including taxes, and levies and bureaucratic reporting burden have been hampering widescale adoption -especially [in Europe](https://www.solarpowereurope.org/wp-content/uploads/2019/12/SolarPower-Europe_EU-Market-Outlook-for-Solar-Power-2019-2023_.pdf?cf_id=7181).\n",
    "\n",
    "**Battery / Community Storage**\n",
    "Solar rooftops should come with local storage as it makes sense. Ongoing reductions in feed-in tariffs, and the declining Renewables costs [drive energy storage](https://www.nrel.gov/news/features/2020/declining-renewable-costs-drive-focus-on-energy-storage.html)\n",
    "\n",
    "**Heat Pumps**\n",
    "Heat pumps supply more heating and cooling capacity than the amount of electricity used to run them. Properly designed and installed heat pumps regularly attain more than 300 per cent efficiency. Coupled together with solar panels, heat pumps could lead to a zero net energy. Air-to-air heatpumps can be switched to cooling in summer.[source](https://www.greenmatch.co.uk/blog/2014/08/heat-pumps-7-advantages-and-disadvantages) \n",
    "\n",
    "**Smart Plug/Appliances**\n",
    "Smart plugs and [smart appliances](https://ec.europa.eu/energy/intelligent/projects/sites/iee-projects/files/projects/documents/e-track_ii_final_brochure.pdf) coupled with information can be an entry level for most consumers, [it is shown](https://www.sciencedirect.com/science/article/pii/S1364032115007431#s0025) that environmental concerns can increase the perceived usefulness of a system that employs smart plugs.\n"
   ]
  },
  {
   "cell_type": "markdown",
   "metadata": {},
   "source": [
    "# Visual System Mapping"
   ]
  },
  {
   "cell_type": "code",
   "execution_count": 5,
   "metadata": {
    "scrolled": false
   },
   "outputs": [
    {
     "data": {
      "text/html": [
       "<script>\n",
       "code_show=true; \n",
       "function code_toggle() {\n",
       " if (code_show){\n",
       " $('div.input').hide();\n",
       " } else {\n",
       " $('div.input').show();\n",
       " }\n",
       " code_show = !code_show\n",
       "} \n",
       "$( document ).ready(code_toggle);\n",
       "</script>\n",
       "\n",
       "To toggle HTML code, click <a href=\"javascript:code_toggle()\">here</a>."
      ],
      "text/plain": [
       "<IPython.core.display.HTML object>"
      ]
     },
     "execution_count": 5,
     "metadata": {},
     "output_type": "execute_result"
    }
   ],
   "source": [
    "from IPython.display import HTML\n",
    "\n",
    "HTML('''<script>\n",
    "code_show=true; \n",
    "function code_toggle() {\n",
    " if (code_show){\n",
    " $('div.input').hide();\n",
    " } else {\n",
    " $('div.input').show();\n",
    " }\n",
    " code_show = !code_show\n",
    "} \n",
    "$( document ).ready(code_toggle);\n",
    "</script>\n",
    "\n",
    "To toggle HTML code, click <a href=\"javascript:code_toggle()\">here</a>.''')\n",
    "\n"
   ]
  },
  {
   "cell_type": "markdown",
   "metadata": {},
   "source": [
    "\n",
    "\n",
    "## Entity Relationship Diagrams\n",
    "\n",
    "In the original [cadCAD foundations course](https://www.cadcad.education/course/bootcamp) (highly recommended!), Entity-Relationship diagrams are also used to explain the system at a high enough level. Typically one can also represent the Electrasseed Fund ecosystem using entities and relationships, e.g. \"citizen buys/owns eCar\". \n",
    "\n",
    "However, since we are interested in coming up with entirely new relationships exactly in this regard, i.e. new financial, ownerhsip models, we are skipping the ER diagrams here and focus on diagrams that help us analyze the system through its valuefows between participants as emphasized in \"[Ecosystem Valueflows](https://tokenengineeringcommunity.github.io/website/docs/academy-tmg1-ecosystem/)\" course at Token Engineering Academy."
   ]
  },
  {
   "cell_type": "markdown",
   "metadata": {},
   "source": [
    "## Causal Loop Diagrams\n",
    "\n",
    "Using one of [Nick Case's](https://ncase.me/) gorgeous systems thinking tools: [Loopy](https://ncase.me/loopy/), we create some visualizations that **make the funding dynamics visible**. \n",
    "\n",
    "Currently only flexibility markets are considered to be a solution. This requires however, that the grid operator pays for all the balancing need that Renewables create. This market alone however, considering that grid operators are regulated, and in many markets subsidies exist for both coal as well as renewables, or mostly for coal -- we cannot assume that energy markets are efficient.\n",
    "\n",
    "### Funding Need\n",
    "The following is a simple diagram that shows the dynamics of adding renewables increases the balancing need, which increases the need for flexibility. However if only the grid operator (tax, and electricity bills) then owning decentralized energy resources (by paying less for electricity to the grid) doesn't payoff fast enough, which aggravates the situation: only people who can afford costly equipment get to install and use clean energy, pay less to the grid, whose operator has more balancing need to provide electricity to those who couldn't afford clean energy resources, which additionally increases the costs. \n",
    "\n",
    "The loopy diagram however, instantly shows that the cause isn't decentralized energy, but funding need:"
   ]
  },
  {
   "cell_type": "code",
   "execution_count": 4,
   "metadata": {},
   "outputs": [
    {
     "data": {
      "text/html": [
       "\n",
       "        <iframe\n",
       "            width=\"800\"\n",
       "            height=\"650\"\n",
       "            src=\"https://ncase.me/loopy/v1.1/?embed=1&data=[[[1,928,244,0.33,%22Solar%2520Roofs%22,2],[2,1025,512,0,%22balancing%2520need%22,0],[3,1070,164,0,%22Solar%2520Gardens%22,2],[4,1247,94,0.83,%22Solar%2520Fields%22,2],[5,755,615,0,%22Flexibility%22,5],[6,270,542,0,%22eCars%22,5],[7,374,763,0.16,%22heat%2520pumps%22,5],[8,561,727,0.5,%22smart%2520plugs%2520%22,5],[9,189,660,0.16,%22batteries%22,5],[14,508,143,0,%22funding%2520need%22,3]],[[1,2,89,1,0],[3,2,70,1,0],[4,2,78,1,0],[5,2,-98,-1,0],[2,5,-106,1,0],[6,5,66,1,0],[7,5,77,1,0],[8,5,34,1,0],[9,5,51,1,0],[1,14,-25,1,0],[3,14,-67,1,0],[4,14,-64,1,0],[6,14,49,1,0],[9,14,113,1,0],[7,14,66,1,0],[2,14,-62,-1,0]],[[676,322,%22Use%2520balancing%2520need%2520to%2520%250Afund%2520initial%2520flexibility.%250A%250AIs%2520it%2520enough%253F%22],[1287,230,%22%22],[1129,581,%22Grid%2520Operator%22],[313,379,%22%22],[481,830,%22%22],[717,757,%22%22],[312,677,%22%22],[400,104,%22We%2520need%2520more%2520funding%2520and%2520people%2520to%2520use%2520%250Athese%2520resources%2520%250Awisely%250A%250ASDG7%250ASDG17%22],[1122,846,%22Play%2520to%2520reduce%2520balancing%2520need%2520of%2520Grid%2520operator%2520%250A-%2520%2520and%2520see%2520what%2520is%2520really%2520needed%22]],14%5D\"\n",
       "            frameborder=\"0\"\n",
       "            allowfullscreen\n",
       "        ></iframe>\n",
       "        "
      ],
      "text/plain": [
       "<IPython.lib.display.IFrame at 0x7fadcd301ca0>"
      ]
     },
     "execution_count": 4,
     "metadata": {},
     "output_type": "execute_result"
    }
   ],
   "source": [
    "from IPython.display import IFrame \n",
    "IFrame('https://ncase.me/loopy/v1.1/?embed=1&data=[[[1,928,244,0.33,%22Solar%2520Roofs%22,2],[2,1025,512,0,%22balancing%2520need%22,0],[3,1070,164,0,%22Solar%2520Gardens%22,2],[4,1247,94,0.83,%22Solar%2520Fields%22,2],[5,755,615,0,%22Flexibility%22,5],[6,270,542,0,%22eCars%22,5],[7,374,763,0.16,%22heat%2520pumps%22,5],[8,561,727,0.5,%22smart%2520plugs%2520%22,5],[9,189,660,0.16,%22batteries%22,5],[14,508,143,0,%22funding%2520need%22,3]],[[1,2,89,1,0],[3,2,70,1,0],[4,2,78,1,0],[5,2,-98,-1,0],[2,5,-106,1,0],[6,5,66,1,0],[7,5,77,1,0],[8,5,34,1,0],[9,5,51,1,0],[1,14,-25,1,0],[3,14,-67,1,0],[4,14,-64,1,0],[6,14,49,1,0],[9,14,113,1,0],[7,14,66,1,0],[2,14,-62,-1,0]],[[676,322,%22Use%2520balancing%2520need%2520to%2520%250Afund%2520initial%2520flexibility.%250A%250AIs%2520it%2520enough%253F%22],[1287,230,%22%22],[1129,581,%22Grid%2520Operator%22],[313,379,%22%22],[481,830,%22%22],[717,757,%22%22],[312,677,%22%22],[400,104,%22We%2520need%2520more%2520funding%2520and%2520people%2520to%2520use%2520%250Athese%2520resources%2520%250Awisely%250A%250ASDG7%250ASDG17%22],[1122,846,%22Play%2520to%2520reduce%2520balancing%2520need%2520of%2520Grid%2520operator%2520%250A-%2520%2520and%2520see%2520what%2520is%2520really%2520needed%22]],14%5D', width=800, height=650)\n"
   ]
  },
  {
   "cell_type": "markdown",
   "metadata": {},
   "source": [
    "\n",
    "### Incentive Alignment of Funders and Fundees\n",
    "\n",
    "After multiple iteration of Ecosystem Valueflows canvases and interviews, co-creation games, and hackathons together with ecosystem members, we have focused on the drivers that align incentives of funders and fundees.\n",
    "\n",
    "As you see in the diagram below the balancing need (above), although it is systemically crucial, does not play a driving role in the incentive scheme. Since grid operators can only incentivize by providing payment for flexibility - which we will include in the financial feasibility model, it has no effect on actions on the main groups fundees and funders. On the contrary, it complicates storytelling and outreach, whilst accounting for only a small fraction of the funding needed.\n",
    "\n",
    "The secondary effects on impact investors are interesting, though (not visualized, but could be communicated): When the grid is unbalanced and stability is critical, then grid operators can curtail Renewables, too. Which means if you invest in a huge wind park, but the grid operator needs to demand the curtailment of wind power feed-in into its grid, your investments' environmental impact is diminished. Of course the grid operators needs to pay for that stability service, so your financial returns are safe as an investor. But if you are an actual _impact_ investor, you should be dissatisfied with your investment's environmental return and change your strategy.\n",
    "\n",
    "The effects on equipment vendors are trivial, too. They are inentivized to build equipment that is capable of providing grid anscillary services, too, which means more controllable flexibility and increasing standardization. This is after a decade of Smart Grid already visible on the market, e.g. [solar inverters](https://files.sma.de/downloads/NSM-GG10-TI-en-11.pdf) to provide flexibility.\n",
    "\n",
    "The resulting \"Sustainable Cities and Communities\" should equally incentivize Cities, Charities, and in general Sponsors of [SDG11](https://sdgs.un.org/topics/sustainable-cities-and-human-settlements). \n",
    "\n",
    "Hence in the following we focus on showcasing the system dynamcis assumptions of intrinsic drivers between climate conscious citizens and impact investors, who care about their \"Green Net Worth\" (a term, @mollywebtech brought into the discussion in our Odyssey Momentum). "
   ]
  },
  {
   "cell_type": "code",
   "execution_count": 5,
   "metadata": {},
   "outputs": [
    {
     "data": {
      "text/html": [
       "\n",
       "        <iframe\n",
       "            width=\"800\"\n",
       "            height=\"650\"\n",
       "            src=\"https://ncase.me/loopy/v1.1/?embed=1&data=[[[1,780,100,0,%22Incentives%22,4],[2,1153,313,0,%22Climate%2520Action%22,5],[3,1014,595,1,%22CO2%22,0],[4,807,348,0,%22Funding%22,3],[5,483,336,0,%22Solidarity%22,5],[6,623,601,0,%22Impact%22,4],[7,272,687,0,%22Green%2520Net%2520Worth%22,4]],[[1,2,89,1,0],[2,3,66,-1,0],[1,5,-84,1,0],[3,6,46,1,0],[5,6,-67,1,0],[6,4,-14,1,0],[6,7,-30,1,0]],[[1138,815,%22...%2520to%2520figure%2520out%2520How%2520to%2520Make%2520a%2520Funding%2520Dynamo!%22],[1132,852,%22Hint%253A%2520Gotta%2520keep%2520them%2520incentives%2520flowing%22],[1161,148,%22Use%2520when%2520solar%2520abundant!%22],[456,156,%22Save%2520energy!%250A%2520%250ABecome%2520co-investor!%22],[417,511,%22Social%2520Impact%22],[832,671,%22Environmental%2520Impact%22],[910,420,%22SDG%25207%2520%2526%252017%22],[1307,368,%22SDG13%22],[285,802,%22Continuous%2520CO2%2520reduction%2520%250Aover%2520Lifetime%2520of%2520Investment!!!%250A%250ASDG%252011%253A%2520Sustainable%2520Cities%2520%2526%2520Communities%2520%22]],7%5D\"\n",
       "            frameborder=\"0\"\n",
       "            allowfullscreen\n",
       "        ></iframe>\n",
       "        "
      ],
      "text/plain": [
       "<IPython.lib.display.IFrame at 0x7fadcd301c40>"
      ]
     },
     "execution_count": 5,
     "metadata": {},
     "output_type": "execute_result"
    }
   ],
   "source": [
    "from IPython.display import IFrame \n",
    "\n",
    "IFrame('https://ncase.me/loopy/v1.1/?embed=1&data=[[[1,780,100,0,%22Incentives%22,4],[2,1153,313,0,%22Climate%2520Action%22,5],[3,1014,595,1,%22CO2%22,0],[4,807,348,0,%22Funding%22,3],[5,483,336,0,%22Solidarity%22,5],[6,623,601,0,%22Impact%22,4],[7,272,687,0,%22Green%2520Net%2520Worth%22,4]],[[1,2,89,1,0],[2,3,66,-1,0],[1,5,-84,1,0],[3,6,46,1,0],[5,6,-67,1,0],[6,4,-14,1,0],[6,7,-30,1,0]],[[1138,815,%22...%2520to%2520figure%2520out%2520How%2520to%2520Make%2520a%2520Funding%2520Dynamo!%22],[1132,852,%22Hint%253A%2520Gotta%2520keep%2520them%2520incentives%2520flowing%22],[1161,148,%22Use%2520when%2520solar%2520abundant!%22],[456,156,%22Save%2520energy!%250A%2520%250ABecome%2520co-investor!%22],[417,511,%22Social%2520Impact%22],[832,671,%22Environmental%2520Impact%22],[910,420,%22SDG%25207%2520%2526%252017%22],[1307,368,%22SDG13%22],[285,802,%22Continuous%2520CO2%2520reduction%2520%250Aover%2520Lifetime%2520of%2520Investment!!!%250A%250ASDG%252011%253A%2520Sustainable%2520Cities%2520%2526%2520Communities%2520%22]],7%5D', width=800, height=650)"
   ]
  },
  {
   "cell_type": "markdown",
   "metadata": {},
   "source": [
    "## Valueflows Diagrams\n",
    "\n",
    "Whilst it is clear that we will have interesting \"what if\" questions when it comes to the \"make up\" of the Fundee group. The make up of the Funder group will also determine the sustainability of the Electraseed Common Funding Pool. The additional analysis through the causal loop diagram above, however, helped us to decide, which subgroups we should focus on first.\n",
    "\n",
    "For now we abstract the actors as sources and sinks (\"clouds\") using the stock & flow diagram notations [see \"Section cadCAD in Context\"](https://www.cadcad.education/course/bootcamp). In the course of developing this model in more detail, we will implement their behavior and mechanisms as a network graph (as demonstrated in [\"Robots & Marbles Tutorial Part 5\"](https://github.com/cadCAD-org/demos/blob/master/tutorials/robots_and_marbles/robot-marbles-part-5/robot-marbles-part-5.ipynb) or as used for representing \"[Pariticpants and Proposals](https://github.com/1Hive/conviction-voting-cadcad/blob/master/models/v3/model/parts/participants.py) using network graph database in [Conviction Voting](https://nbviewer.jupyter.org/github/BlockScience/Aragon_Conviction_Voting/blob/a5bf8accbc832c34e3cc7f206106edd89ea0aa7d/models/v3/Aragon_Conviction_Voting_Model.ipynb)\")."
   ]
  },
  {
   "cell_type": "markdown",
   "metadata": {},
   "source": [
    "### System Dynamics & Assumptions\n",
    "\n",
    "For describing the System Dynamics we use the following Valueflows diagram. Beware that this is only one of many possibilities. The choice of assumptions we made is partially given by the Ecosystem descriptions and assumptions documented above. The chosen **policiy assumptions** need to be detailed here:\n",
    "\n",
    "**1. Proof of impact**, i.e. CO2 reduction (driver for City, Charity, Impact Investor), as well as assured availability of flexibility through sufficient redundancy levels (driver for Grid Operator). Sufficient proof and track record will determine Funder's decision making in continuing, discontinuing, increasing or decreasing funding level. In the case of Grid operator we can assume the decreasing/increasing of the funding level is fulfilling a service level agreement.\n",
    "\n",
    "**2. Assured levels of Return on Investment**, for the Impact Investor who after a period of time expects at the very least the capital return. \n",
    "\n",
    "**3. Impact Matching** is the funding policy: available pledged energy assets (by equipment vendors at various levels of discounts) are matched with citizens who unlocked these funding & energy asset levels (e.g. solar rooftop, and/or electric vehicle). This in turn will determine how many and which type of ressources are available to reduce CO2 continually and increase redundancy in the flexibility pool (stock).\n",
    "\n",
    "### Planned Iterations\n",
    "\n",
    "In a further detailing of the model, the conditional funding (impact matching) logic can be  extended to take into account whether citizens are located where flexibility is most needed. \n",
    "\n",
    "The initial simulation will be used to analyze what type of token models and parameterization would be most suitable and/or can be adapted, intermixed, e.g.\n",
    "\n",
    "(a) Quadratic Funding <br>\n",
    "(b) [Automated Market Maker](https://github.com/cadCAD-org/demos/blob/master/demos/Multiscale/uniswap/Uniswap_Model.ipynb) some [Bonding Curve experiments](https://github.com/cadCAD-org/demos/blob/master/demos/Multiscale/bonding_curve/Bonding_Curve.ipynb) and [Bond Simulations](https://github.com/SeanMcOwen/FinanceAndPython.com/tree/master/cadCAD%20Bond%20Simulations) <br>\n",
    "(c) [Risk-adjusted Bonding Curve](https://github.com/BlockScience/Risk-Adjusted-Bonding-Curves) <br>\n",
    "(d) Augmented Bonding Curve\n",
    "\n",
    "**Responsiveness** is likely to be part of the Multiscale modeling, the policy interacting with behavorial model of citizens. Available decentralized energy resources and their characteristics for saving CO2 and providing flexibility is provided as a data model"
   ]
  },
  {
   "cell_type": "code",
   "execution_count": 1,
   "metadata": {
    "scrolled": false
   },
   "outputs": [
    {
     "data": {
      "text/html": [
       "\n",
       "        <iframe\n",
       "            width=\"800\"\n",
       "            height=\"650\"\n",
       "            src=\"https://lucid.app/documents/embeddedchart/b8913d87-8ffa-4810-9dcb-b4dadded2afb\"\n",
       "            frameborder=\"0\"\n",
       "            allowfullscreen\n",
       "        ></iframe>\n",
       "        "
      ],
      "text/plain": [
       "<IPython.lib.display.IFrame at 0x7f040c228460>"
      ]
     },
     "execution_count": 1,
     "metadata": {},
     "output_type": "execute_result"
    }
   ],
   "source": [
    "from IPython.display import IFrame \n",
    "\n",
    "IFrame('https://lucid.app/documents/embeddedchart/b8913d87-8ffa-4810-9dcb-b4dadded2afb', width=800, height=650)"
   ]
  },
  {
   "cell_type": "markdown",
   "metadata": {},
   "source": [
    "## Mathematical Specifications\n",
    "\n",
    "..."
   ]
  },
  {
   "cell_type": "markdown",
   "metadata": {},
   "source": [
    "## Differential Specification\n",
    "The Differential specification (see forum post for [syntax](https://community.cadcad.org/t/differential-specification-syntax-key/31)) is a way to formalize specification of the cadCAD code flow. The lanes depict the conceptual flow which map to code level components as also explained [here](https://docs.google.com/presentation/d/1veojW6xi6eJeppBoUjo3zuzWiBCqHHn4IbQkng80d4s/edit#slide=id.ga271568ae2_0_573). For example: \n",
    "\n",
    "Policies, or \"policy functions\" denoted as diamonds both in Valueflow and Differential Specification diagrams, are conceptually \"system inputs\". Together with previous sytstem state and/or metrics deduced from system states system inputs become parameters for the state update logic. This \"state update logic\" is denoted as a \"mechanism\". The system state is defined by the most important value stocks, the state variables.\n",
    "\n",
    "In our case below we describe two state update functions, or mechanisms:\n",
    "- **s_update_funds** : the logic will be determined by Funders' decision making policies e.g. impact investors' strategy, their risk aversity or tolerance depending on the Electraseed Ratio, which is a combination of liquidity ratio, flexibility default or redundancy and CO2 reduction. If the ratio is positive the tolerant investor will react accordingly versus the risk averse investor will always look for liquidity ratio to get their minimiun return.\n",
    "\n",
    "- **s_update_usage** : will describe the logic how differently aware and responsive citizens with different flexibility profiles (mesh with their energy assets' characteristics) react to different incentive schemes\n",
    "\n",
    "- **p_impact_matching policy** determines how much of the current funds are released (s_update_funds) for eligible citizens (incentive scheme, e.g. unlock eCar) and turn into new energy assets which becomes an input updating the amount of flexibility available and used (s_update_usage)."
   ]
  },
  {
   "cell_type": "code",
   "execution_count": 1,
   "metadata": {},
   "outputs": [
    {
     "data": {
      "text/html": [
       "\n",
       "        <iframe\n",
       "            width=\"800\"\n",
       "            height=\"650\"\n",
       "            src=\"https://lucid.app/documents/embeddedchart/9b84bbc6-8a8f-4b9f-9ab0-b8e9e3d0a0a0\"\n",
       "            frameborder=\"0\"\n",
       "            allowfullscreen\n",
       "        ></iframe>\n",
       "        "
      ],
      "text/plain": [
       "<IPython.lib.display.IFrame at 0x7f16a057c0d0>"
      ]
     },
     "execution_count": 1,
     "metadata": {},
     "output_type": "execute_result"
    }
   ],
   "source": [
    "from IPython.display import IFrame \n",
    "\n",
    "IFrame('https://lucid.app/documents/embeddedchart/9b84bbc6-8a8f-4b9f-9ab0-b8e9e3d0a0a0', width=800, height=650)"
   ]
  },
  {
   "cell_type": "markdown",
   "metadata": {},
   "source": [
    "# Background Info\n",
    "\n",
    "## Flexibility Need\n",
    "\n",
    "Currently, the system still sees flexibility as a scarce resource that needs to be provision by the natural monopoly of the grid operator. This view needs to be take into consideration, however, it is the limit we want to show we can go beyond with new financial and business models that allow for abundant clean energy resources - as well as incentive schemes, and appropriate levels of automation, such that citizen participants can use these resources optimally. \n",
    "\n",
    "[1](bundesnetzagentur.de/SharedDocs/Downloads/EN/Areas/ElectricityGas/FlexibilityPaper_EN.pdf) Flexibility Paper Federal Power Grid Regulator Germany, 2018\n",
    "\n",
    "[2](https://en.wikipedia.org/wiki/Local_flexibility_markets) Local Flexibility Markets\n",
    "\n",
    "[3](edsoforsmartgrids.eu/wp-content/uploads/public/EDSO-views-on-Flexibility-FINAL-May-5th-2014.pdf) The Role of local grid operators tomorrow"
   ]
  },
  {
   "cell_type": "code",
   "execution_count": null,
   "metadata": {},
   "outputs": [],
   "source": []
  }
 ],
 "metadata": {
  "kernelspec": {
   "display_name": "Python 3",
   "language": "python",
   "name": "python3"
  },
  "language_info": {
   "codemirror_mode": {
    "name": "ipython",
    "version": 3
   },
   "file_extension": ".py",
   "mimetype": "text/x-python",
   "name": "python",
   "nbconvert_exporter": "python",
   "pygments_lexer": "ipython3",
   "version": "3.9.0+"
  }
 },
 "nbformat": 4,
 "nbformat_minor": 4
}
